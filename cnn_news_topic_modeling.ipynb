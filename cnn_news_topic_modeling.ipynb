{
 "cells": [
  {
   "cell_type": "code",
   "execution_count": 1,
   "metadata": {},
   "outputs": [
    {
     "name": "stdout",
     "output_type": "stream",
     "text": [
      "0                          cnn\n",
      "1                          cnn\n",
      "2                          cnn\n",
      "3                          cnn\n",
      "4                          cnn\n",
      "5                          cnn\n",
      "6                          cnn\n",
      "7                          cnn\n",
      "8                          cnn\n",
      "9                          cnn\n",
      "10                         cnn\n",
      "11                         cnn\n",
      "12                         cnn\n",
      "13                         cnn\n",
      "14                         cnn\n",
      "15                         cnn\n",
      "16                         cnn\n",
      "17                         cnn\n",
      "18                         cnn\n",
      "19                         cnn\n",
      "20                         cnn\n",
      "21                         cnn\n",
      "22                         cnn\n",
      "23                         cnn\n",
      "24                         cnn\n",
      "25                         cnn\n",
      "26                         cnn\n",
      "27                         cnn\n",
      "28                         cnn\n",
      "29                         cnn\n",
      "                ...           \n",
      "515                 techcrunch\n",
      "516                 techcrunch\n",
      "517                 techcrunch\n",
      "518                 techcrunch\n",
      "519                 techcrunch\n",
      "520         the-new-york-times\n",
      "521         the-new-york-times\n",
      "522         the-new-york-times\n",
      "523         the-new-york-times\n",
      "524         the-new-york-times\n",
      "525         the-new-york-times\n",
      "526         the-new-york-times\n",
      "527    the-wall-street-journal\n",
      "528    the-wall-street-journal\n",
      "529    the-wall-street-journal\n",
      "530    the-wall-street-journal\n",
      "531    the-wall-street-journal\n",
      "532    the-wall-street-journal\n",
      "533    the-wall-street-journal\n",
      "534    the-wall-street-journal\n",
      "535    the-wall-street-journal\n",
      "536    the-wall-street-journal\n",
      "537        the-washington-post\n",
      "538        the-washington-post\n",
      "539        the-washington-post\n",
      "540        the-washington-post\n",
      "541        the-washington-post\n",
      "542        the-washington-post\n",
      "543        the-washington-post\n",
      "544        the-washington-post\n",
      "Name: 3, Length: 545, dtype: object\n"
     ]
    }
   ],
   "source": [
    "import pandas as pd\n",
    "DATA_SET_FILE ='./labeled_news.csv'\n",
    "df = pd.read_csv(DATA_SET_FILE, header=None)\n",
    "print(df[3])"
   ]
  },
  {
   "cell_type": "code",
   "execution_count": 5,
   "metadata": {},
   "outputs": [
    {
     "name": "stdout",
     "output_type": "stream",
     "text": [
      "count    545.000000\n",
      "mean       3.341284\n",
      "std        2.090121\n",
      "min        1.000000\n",
      "25%        2.000000\n",
      "50%        2.000000\n",
      "75%        5.000000\n",
      "max        8.000000\n",
      "Name: 0, dtype: float64\n",
      "count     545\n",
      "unique     11\n",
      "top       cnn\n",
      "freq      132\n",
      "Name: 3, dtype: object\n"
     ]
    }
   ],
   "source": [
    "print(df[0].describe())\n",
    "print(df[3].describe())"
   ]
  },
  {
   "cell_type": "code",
   "execution_count": 7,
   "metadata": {},
   "outputs": [
    {
     "data": {
      "text/plain": [
       "<matplotlib.axes._subplots.AxesSubplot at 0x7fc0d5db6c50>"
      ]
     },
     "execution_count": 7,
     "metadata": {},
     "output_type": "execute_result"
    },
    {
     "data": {
      "image/png": "[encoded data removed]",
      "text/plain": [
       "<matplotlib.figure.Figure at 0x7fc0d5d09198>"
      ]
     },
     "metadata": {},
     "output_type": "display_data"
    }
   ],
   "source": [
    "import matplotlib.pyplot as plt\n",
    "plt.style.use='default'\n",
    "df[0].value_counts().plot(kind='bar')"
   ]
  },
  {
   "cell_type": "code",
   "execution_count": 8,
   "metadata": {},
   "outputs": [
    {
     "data": {
      "text/plain": [
       "<matplotlib.axes._subplots.AxesSubplot at 0x7fc0d5cb6be0>"
      ]
     },
     "execution_count": 8,
     "metadata": {},
     "output_type": "execute_result"
    },
    {
     "data": {
      "image/png": "[encoded data removed]",
      "text/plain": [
       "<matplotlib.figure.Figure at 0x7fc0d5c4e0f0>"
      ]
     },
     "metadata": {},
     "output_type": "display_data"
    }
   ],
   "source": [
    "df[3].value_counts().plot(kind='bar')"
   ]
  },
  {
   "cell_type": "code",
   "execution_count": 9,
   "metadata": {},
   "outputs": [
    {
     "name": "stdout",
     "output_type": "stream",
     "text": [
      "[[1 2 3 0 0]\n",
      " [1 2 4 0 0]\n",
      " [1 5 3 0 0]]\n",
      "Total unique words: 6\n"
     ]
    }
   ],
   "source": [
    "import numpy as np\n",
    "import tensorflow as tf\n",
    "\n",
    "MAX_DOCUMENT_LENGTH = 5\n",
    "vocab_processor = tf.contrib.learn.preprocessing.VocabularyProcessor(MAX_DOCUMENT_LENGTH)\n",
    "\n",
    "sentences=[\n",
    "    \"I like apple\",\n",
    "    \"I like banana\",\n",
    "    \"I eat apple\"\n",
    "]\n",
    "\n",
    "embedded_sentences = np.array(list(vocab_processor.fit_transform(sentences)))\n",
    "print(embedded_sentences)\n",
    "\n",
    "print('Total unique words: %d' % len(vocab_processor.vocabulary_))\n"
   ]
  },
  {
   "cell_type": "code",
   "execution_count": 15,
   "metadata": {},
   "outputs": [
    {
     "name": "stdout",
     "output_type": "stream",
     "text": [
      "\n",
      "[[0 0 0 0 0]\n",
      " [1 0 0 0 0]\n",
      " [1 2 4 0 0]\n",
      " [1 5 3 0 0]]\n",
      "Total unique words: 6\n"
     ]
    }
   ],
   "source": [
    "print(\"\")\n",
    "\n",
    "new_sentences = [\n",
    "    \"This is a brand new sentence which we never seen before and is very long\",\n",
    "    \"I hate doing homework!\",\n",
    "    \"I like banana\",\n",
    "    \"I eat apple\"\n",
    "]\n",
    "\n",
    "new_embedded_sentences = np.array(list(vocab_processor.transform(new_sentences)))\n",
    "print(new_embedded_sentences)\n",
    "\n",
    "print('Total unique words: %d' % len(vocab_processor.vocabulary_))"
   ]
  },
  {
   "cell_type": "code",
   "execution_count": 33,
   "metadata": {},
   "outputs": [
    {
     "name": "stdout",
     "output_type": "stream",
     "text": [
      "[[[ 0.39272141  0.74528432 -0.68548799]\n",
      "  [ 0.16277003  0.77496946 -0.29722255]\n",
      "  [-0.32436803  0.45408285  0.39071357]\n",
      "  [-0.3876867  -0.636572   -0.63743967]\n",
      "  [-0.3876867  -0.636572   -0.63743967]]]\n"
     ]
    }
   ],
   "source": [
    "import tensorflow as tf\n",
    "\n",
    "vocab_size = 6\n",
    "embed_dim = 3\n",
    "\n",
    "sentences = [\n",
    "    [1,2,3,0,0]\n",
    "]\n",
    "\n",
    "embedded_sentences = tf.contrib.layers.embed_sequence(sentences, vocab_size, embed_dim)\n",
    "\n",
    "with tf.Session() as sess:\n",
    "    sess.run(tf.global_variables_initializer())\n",
    "    result = sess.run(embedded_sentences)\n",
    "    print(result)"
   ]
  },
  {
   "cell_type": "code",
   "execution_count": null,
   "metadata": {},
   "outputs": [
    {
     "name": "stdout",
     "output_type": "stream",
     "text": [
      "Total words: 2327\n",
      "INFO:tensorflow:Using default config.\n",
      "WARNING:tensorflow:Using temporary folder as model directory: /tmp/tmpymfbos6r\n",
      "INFO:tensorflow:Using config: {'_task_type': None, '_task_id': 0, '_cluster_spec': <tensorflow.python.training.server_lib.ClusterSpec object at 0x7fc0b9e567f0>, '_master': '', '_num_ps_replicas': 0, '_num_worker_replicas': 0, '_environment': 'local', '_is_chief': True, '_evaluation_master': '', '_tf_config': gpu_options {\n",
      "  per_process_gpu_memory_fraction: 1.0\n",
      "}\n",
      ", '_tf_random_seed': None, '_save_summary_steps': 100, '_save_checkpoints_secs': 600, '_log_step_count_steps': 100, '_session_config': None, '_save_checkpoints_steps': None, '_keep_checkpoint_max': 5, '_keep_checkpoint_every_n_hours': 10000, '_model_dir': '/tmp/tmpymfbos6r'}\n",
      "WARNING:tensorflow:From <ipython-input-36-c7991431dd34>:52: calling BaseEstimator.fit (from tensorflow.contrib.learn.python.learn.estimators.estimator) with x is deprecated and will be removed after 2016-12-01.\n",
      "Instructions for updating:\n",
      "Estimator is decoupled from Scikit Learn interface by moving into\n",
      "separate class SKCompat. Arguments x, y and batch_size are only\n",
      "available in the SKCompat class, Estimator will only accept input_fn.\n",
      "Example conversion:\n",
      "  est = Estimator(...) -> est = SKCompat(Estimator(...))\n",
      "WARNING:tensorflow:From <ipython-input-36-c7991431dd34>:52: calling BaseEstimator.fit (from tensorflow.contrib.learn.python.learn.estimators.estimator) with y is deprecated and will be removed after 2016-12-01.\n",
      "Instructions for updating:\n",
      "Estimator is decoupled from Scikit Learn interface by moving into\n",
      "separate class SKCompat. Arguments x, y and batch_size are only\n",
      "available in the SKCompat class, Estimator will only accept input_fn.\n",
      "Example conversion:\n",
      "  est = Estimator(...) -> est = SKCompat(Estimator(...))\n",
      "WARNING:tensorflow:From <ipython-input-36-c7991431dd34>:88: softmax_cross_entropy (from tensorflow.contrib.losses.python.losses.loss_ops) is deprecated and will be removed after 2016-12-30.\n",
      "Instructions for updating:\n",
      "Use tf.losses.softmax_cross_entropy instead. Note that the order of the logits and labels arguments has been changed.\n",
      "WARNING:tensorflow:From /opt/conda/lib/python3.6/site-packages/tensorflow/contrib/losses/python/losses/loss_ops.py:398: softmax_cross_entropy_with_logits (from tensorflow.python.ops.nn_ops) is deprecated and will be removed in a future version.\n",
      "Instructions for updating:\n",
      "\n",
      "Future major versions of TensorFlow will allow gradients to flow\n",
      "into the labels input on backprop by default.\n",
      "\n",
      "See tf.nn.softmax_cross_entropy_with_logits_v2.\n",
      "\n",
      "WARNING:tensorflow:From /opt/conda/lib/python3.6/site-packages/tensorflow/contrib/losses/python/losses/loss_ops.py:399: compute_weighted_loss (from tensorflow.contrib.losses.python.losses.loss_ops) is deprecated and will be removed after 2016-12-30.\n",
      "Instructions for updating:\n",
      "Use tf.losses.compute_weighted_loss instead.\n",
      "WARNING:tensorflow:From /opt/conda/lib/python3.6/site-packages/tensorflow/contrib/losses/python/losses/loss_ops.py:152: add_arg_scope.<locals>.func_with_args (from tensorflow.contrib.losses.python.losses.loss_ops) is deprecated and will be removed after 2016-12-30.\n",
      "Instructions for updating:\n",
      "Use tf.losses.add_loss instead.\n",
      "WARNING:tensorflow:From <ipython-input-36-c7991431dd34>:92: get_global_step (from tensorflow.contrib.framework.python.ops.variables) is deprecated and will be removed in a future version.\n",
      "Instructions for updating:\n",
      "Please switch to tf.train.get_global_step\n",
      "INFO:tensorflow:Create CheckpointSaverHook.\n",
      "INFO:tensorflow:Saving checkpoints for 1 into /tmp/tmpymfbos6r/model.ckpt.\n",
      "INFO:tensorflow:loss = 2.01182, step = 1\n"
     ]
    }
   ],
   "source": [
    "import numpy as np\n",
    "import os\n",
    "import pandas as pd\n",
    "import pickle\n",
    "import shutil\n",
    "import tensorflow as tf\n",
    "\n",
    "from sklearn import metrics\n",
    "\n",
    "learn = tf.contrib.learn\n",
    "\n",
    "DATA_SET_FILE = './labeled_news.csv'\n",
    "\n",
    "MAX_DOCUMENT_LENGTH = 500\n",
    "N_CLASSES = 8\n",
    "\n",
    "\n",
    "EMBEDDING_SIZE = 100\n",
    "N_FILTERS = 10\n",
    "WINDOW_SIZE = 10\n",
    "FILTER_SHAPE1 = [WINDOW_SIZE, EMBEDDING_SIZE]\n",
    "FILTER_SHAPE2 = [WINDOW_SIZE, N_FILTERS]\n",
    "POOLING_WINDOW = 4\n",
    "POOLING_STRIDE = 2\n",
    "\n",
    "LEARNING_RATE = 0.01\n",
    "STEPS = 200\n",
    "\n",
    "def main(unused_argv):\n",
    "    df = pd.read_csv(DATA_SET_FILE, header=None)\n",
    "\n",
    "    df.sample(frac=1)\n",
    "\n",
    "    train_df = df[0:450]\n",
    "    test_df = df.drop(train_df.index)\n",
    "\n",
    "    x_train = train_df[1]\n",
    "    y_train = train_df[0]\n",
    "    x_test = test_df[1]\n",
    "    y_test = test_df[0]\n",
    "\n",
    "    vocab_processor = learn.preprocessing.VocabularyProcessor(MAX_DOCUMENT_LENGTH)\n",
    "    x_train = np.array(list(vocab_processor.fit_transform(x_train)))\n",
    "    x_test = np.array(list(vocab_processor.transform(x_test)))\n",
    "\n",
    "    n_words = len(vocab_processor.vocabulary_)\n",
    "    print('Total words: %d' % n_words)\n",
    "  \n",
    "    classifier = learn.Estimator(\n",
    "        model_fn=generate_cnn_model(N_CLASSES, n_words))\n",
    "\n",
    "    classifier.fit(x_train, y_train, steps=STEPS)\n",
    "\n",
    "    y_predicted = [\n",
    "        p['class'] for p in classifier.predict(x_test, as_iterable=True)\n",
    "    ]\n",
    "    print(y_predicted)\n",
    "\n",
    "    score = metrics.accuracy_score(y_test, y_predicted)\n",
    "    print('Accuracy: {0:f}'.format(score))\n",
    "    \n",
    "def generate_cnn_model(n_classes, n_words):\n",
    "    \"\"\"2 layer CNN to predict from sequence of words to a class.\"\"\"\n",
    "    def cnn_model(features, target):\n",
    "        target = tf.one_hot(target, n_classes, 1, 0)\n",
    "        word_vectors = tf.contrib.layers.embed_sequence(\n",
    "            features, vocab_size=n_words, embed_dim=EMBEDDING_SIZE, scope='words')\n",
    "\n",
    "        word_vectors = tf.expand_dims(word_vectors, 3)\n",
    "        \n",
    "        with tf.variable_scope('CNN_layer1'):\n",
    "            conv1 = tf.contrib.layers.convolution2d(\n",
    "                word_vectors, N_FILTERS, FILTER_SHAPE1, padding='VALID')\n",
    "            conv1 = tf.nn.relu(conv1)\n",
    "            pool1 = tf.nn.max_pool(\n",
    "                conv1,\n",
    "                ksize=[1, POOLING_WINDOW, 1, 1],\n",
    "                strides=[1, POOLING_STRIDE, 1, 1],\n",
    "                padding='SAME')\n",
    "            pool1 = tf.transpose(pool1, [0, 1, 3, 2])\n",
    "      \n",
    "        with tf.variable_scope('CNN_layer2'):\n",
    "            conv2 = tf.contrib.layers.convolution2d(\n",
    "                pool1, N_FILTERS, FILTER_SHAPE2, padding='VALID')\n",
    "            pool2 = tf.squeeze(tf.reduce_max(conv2, 1), squeeze_dims=[1])\n",
    "\n",
    "        logits = tf.contrib.layers.fully_connected(pool2, n_classes, activation_fn=None)\n",
    "        loss = tf.contrib.losses.softmax_cross_entropy(logits, target)\n",
    "\n",
    "        train_op = tf.contrib.layers.optimize_loss(\n",
    "          loss,\n",
    "          tf.contrib.framework.get_global_step(),\n",
    "          optimizer='Adam',\n",
    "          learning_rate=LEARNING_RATE)\n",
    "\n",
    "        return ({\n",
    "          'class': tf.argmax(logits, 1),\n",
    "          'prob': tf.nn.softmax(logits)\n",
    "        }, loss, train_op)\n",
    "\n",
    "    return cnn_model\n",
    "\n",
    "if __name__ == '__main__':\n",
    "    tf.app.run(main=main)"
   ]
  },
  {
   "cell_type": "code",
   "execution_count": null,
   "metadata": {},
   "outputs": [],
   "source": []
  }
 ],
 "metadata": {
  "kernelspec": {
   "display_name": "Python 3",
   "language": "python",
   "name": "python3"
  },
  "language_info": {
   "codemirror_mode": {
    "name": "ipython",
    "version": 3
   },
   "file_extension": ".py",
   "mimetype": "text/x-python",
   "name": "python",
   "nbconvert_exporter": "python",
   "pygments_lexer": "ipython3",
   "version": "3.6.4"
  }
 },
 "nbformat": 4,
 "nbformat_minor": 2
}
